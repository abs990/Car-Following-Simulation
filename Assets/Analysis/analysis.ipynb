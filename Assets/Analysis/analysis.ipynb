{
 "cells": [
  {
   "cell_type": "code",
   "execution_count": null,
   "metadata": {},
   "outputs": [],
   "source": [
    "! pip install numpy matplotlib\n",
    "import matplotlib.pyplot as plt\n",
    "import numpy as np"
   ]
  },
  {
   "attachments": {},
   "cell_type": "markdown",
   "metadata": {},
   "source": [
    "#### Fetch required log file and parse for information"
   ]
  },
  {
   "cell_type": "code",
   "execution_count": null,
   "metadata": {},
   "outputs": [],
   "source": [
    "# Update file name before execution. \n",
    "# Location can be determined from https://docs.unity3d.com/Manual/LogFiles.html\n",
    "file_name = f'/Users/abhisheksnair/Library/Logs/Unity/Editor.log'\n",
    "log_file_obj = open(file_name)"
   ]
  },
  {
   "attachments": {},
   "cell_type": "markdown",
   "metadata": {},
   "source": [
    "#### Iterate through file and get the data"
   ]
  },
  {
   "cell_type": "code",
   "execution_count": null,
   "metadata": {},
   "outputs": [],
   "source": [
    "velocity_dict = {}\n",
    "interim_pos_dict = {}\n",
    "for line in log_file_obj:\n",
    "    if line.__contains__(\"VELOCITY\"):\n",
    "        tokens = line.split(\" \")\n",
    "        car_name = tokens[0]\n",
    "        velocity = tokens[1].split(\"=\")[1].strip()\n",
    "        if car_name not in velocity_dict:\n",
    "            velocity_dict[car_name] = []\n",
    "        velocity_dict[car_name].append(float(velocity))\n",
    "    elif line.__contains__(\"INTERMEDIATE_POSITION\"):\n",
    "        tokens = line.split(\" \")\n",
    "        car_name = tokens[0]\n",
    "        position = tokens[1].split(\"=\")[1].strip()\n",
    "        if car_name not in interim_pos_dict:\n",
    "            interim_pos_dict[car_name] = []\n",
    "        interim_pos_dict[car_name].append(float(position))\n",
    "def visualize(data_dict, title_name):\n",
    "    for car_name in data_dict:\n",
    "        plt.figure\n",
    "        frame_nums = np.arange(0, len(data_dict[car_name]))\n",
    "        plt.plot(frame_nums, data_dict[car_name], label=car_name)\n",
    "        plt.ylabel('Velocity')\n",
    "        plt.legend()\n",
    "        plt.title(title_name)\n",
    "        plt.xlabel('Frame number')\n",
    "        plt.show()\n",
    "print(velocity_dict.keys())\n",
    "print(interim_pos_dict.keys())"
   ]
  },
  {
   "cell_type": "code",
   "execution_count": null,
   "metadata": {},
   "outputs": [],
   "source": [
    "for car_name in velocity_dict:\n",
    "    num_vals = len(velocity_dict[car_name])\n",
    "    for i in range(num_vals):\n",
    "        if(velocity_dict[car_name][i] < 0): velocity_dict[car_name][i] = 0\n",
    "visualize(velocity_dict, \"Velocity\")"
   ]
  },
  {
   "cell_type": "code",
   "execution_count": null,
   "metadata": {},
   "outputs": [],
   "source": [
    "for car_name in velocity_dict:\n",
    "    num_vals = len(interim_pos_dict[car_name])\n",
    "    for i in range(num_vals):\n",
    "        if(interim_pos_dict[car_name][i] < 0): interim_pos_dict[car_name][i] = 0\n",
    "visualize(interim_pos_dict, \"Intermediate position\")"
   ]
  }
 ],
 "metadata": {
  "kernelspec": {
   "display_name": "Python 3",
   "language": "python",
   "name": "python3"
  },
  "language_info": {
   "codemirror_mode": {
    "name": "ipython",
    "version": 3
   },
   "file_extension": ".py",
   "mimetype": "text/x-python",
   "name": "python",
   "nbconvert_exporter": "python",
   "pygments_lexer": "ipython3",
   "version": "3.9.9"
  },
  "orig_nbformat": 4
 },
 "nbformat": 4,
 "nbformat_minor": 2
}
